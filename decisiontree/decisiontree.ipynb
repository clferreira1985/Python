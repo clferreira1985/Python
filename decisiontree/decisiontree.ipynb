{
  "nbformat": 4,
  "nbformat_minor": 0,
  "metadata": {
    "colab": {
      "provenance": [],
      "authorship_tag": "ABX9TyP/pMRI4QbS9Ty46pi/lo74",
      "include_colab_link": true
    },
    "kernelspec": {
      "name": "python3",
      "display_name": "Python 3"
    },
    "language_info": {
      "name": "python"
    }
  },
  "cells": [
    {
      "cell_type": "markdown",
      "metadata": {
        "id": "view-in-github",
        "colab_type": "text"
      },
      "source": [
        "<a href=\"https://colab.research.google.com/github/clferreira1985/Python/blob/main/decisiontree/decisiontree.ipynb\" target=\"_parent\"><img src=\"https://colab.research.google.com/assets/colab-badge.svg\" alt=\"Open In Colab\"/></a>"
      ]
    },
    {
      "cell_type": "markdown",
      "source": [
        "# Titanic Solution with sklearn classifiers\n",
        "\n",
        "#### Esse dataset foi retirado do kaggle\n",
        "\n",
        "#### https://www.kaggle.com/code/minsukheo/titanic-solution-with-sklearn-classifiers/data?select=submission.csv"
      ],
      "metadata": {
        "id": "FiGe9JLDHJWB"
      }
    },
    {
      "cell_type": "code",
      "execution_count": 1,
      "metadata": {
        "id": "0JEe5JGRqtEy"
      },
      "outputs": [],
      "source": [
        "# importando os pacotes\n",
        "\n",
        "import pandas as pd\n",
        "from sklearn.tree import DecisionTreeClassifier\n",
        "from sklearn.metrics import accuracy_score"
      ]
    },
    {
      "cell_type": "code",
      "source": [
        "# leitura dos dados\n",
        "train_data = pd.read_csv('train-data.txt')\n",
        "test_data = pd.read_csv('test-data.txt')"
      ],
      "metadata": {
        "id": "nl8pUSlVHqOo"
      },
      "execution_count": 2,
      "outputs": []
    },
    {
      "cell_type": "code",
      "source": [
        "print ('Tamanho dos dados de Treino :', train_data.shape)\n",
        "print ('Tamanho dos dados de Teste :', test_data.shape)"
      ],
      "metadata": {
        "colab": {
          "base_uri": "https://localhost:8080/"
        },
        "id": "_SsqYyA3Ig8f",
        "outputId": "0bd22bd7-b25e-40e2-bbb8-61812358be6e"
      },
      "execution_count": 4,
      "outputs": [
        {
          "output_type": "stream",
          "name": "stdout",
          "text": [
            "Tamanho dos dados de Treino : (712, 25)\n",
            "Tamanho dos dados de Teste : (179, 25)\n"
          ]
        }
      ]
    },
    {
      "cell_type": "code",
      "source": [
        "# Agora, precisamos prever a variável de destino ausente nos dados de teste\n",
        "# variável de destino - Survived"
      ],
      "metadata": {
        "id": "9Z5vzQkmIhBW"
      },
      "execution_count": null,
      "outputs": []
    },
    {
      "cell_type": "code",
      "source": [
        "# separar a variável independente e de destino nos dados de treinamento\n",
        "\n",
        "train_x = train_data.drop (columns=['Survived'], axis=1)\n",
        "train_y = train_data['Survived']"
      ],
      "metadata": {
        "id": "0v9Vnp6OIhD2"
      },
      "execution_count": 8,
      "outputs": []
    },
    {
      "cell_type": "code",
      "source": [
        "# separar a variável independente e de destino nos dados de teste\n",
        "\n",
        "test_x = test_data.drop (columns=['Survived'], axis=1)\n",
        "test_y = test_data['Survived']\n",
        "\n"
      ],
      "metadata": {
        "id": "NGfB9UbmIhGM"
      },
      "execution_count": 6,
      "outputs": []
    },
    {
      "cell_type": "code",
      "source": [
        "model = DecisionTreeClassifier()"
      ],
      "metadata": {
        "id": "5xXJbfbeLX30"
      },
      "execution_count": 7,
      "outputs": []
    },
    {
      "cell_type": "code",
      "source": [
        "# fit the model com o dados de treino\n",
        "model.fit(train_x, train_y)"
      ],
      "metadata": {
        "colab": {
          "base_uri": "https://localhost:8080/"
        },
        "id": "7cvM2sFELdyf",
        "outputId": "cd58dd44-675b-45a7-9e82-a89681a6c2b3"
      },
      "execution_count": 9,
      "outputs": [
        {
          "output_type": "execute_result",
          "data": {
            "text/plain": [
              "DecisionTreeClassifier()"
            ]
          },
          "metadata": {},
          "execution_count": 9
        }
      ]
    },
    {
      "cell_type": "code",
      "source": [
        "# profundidade da árvore de decisão\n",
        "print('Profundidade da árvore de decisão : ', model.get_depth())\n",
        "\n",
        "# Prevendo os destino dos dados de treino\n",
        "\n",
        "predict_train = model.predict(train_x)\n",
        "print('Alvo dos dados de treino', predict_train)\n",
        "\n",
        "# Accuray Score on train dataset\n",
        "accuracy_train = accuracy_score(train_y, predict_train)\n",
        "print('accuracy_score dos dados treino : ', accuracy_train)\n",
        "\n",
        "# Prever o alvo teste do dataset\n",
        "\n",
        "predict_train = model.predict(test_x)\n",
        "print('Alvo dos dados de treino', predict_train)\n",
        "\n",
        "accuracy_train = accuracy_score(test_y, predict_train)\n",
        "print('accuracy_score dos dados treino : ', accuracy_train)"
      ],
      "metadata": {
        "colab": {
          "base_uri": "https://localhost:8080/"
        },
        "id": "_oKQSOv-Ld0r",
        "outputId": "e90164c2-9121-425a-9a9a-2a2e24195ff6"
      },
      "execution_count": 17,
      "outputs": [
        {
          "output_type": "stream",
          "name": "stdout",
          "text": [
            "Profundidade da árvore de decisão :  19\n",
            "Alvo dos dados de treino [0 1 1 0 0 0 0 0 0 0 0 1 1 1 0 0 1 0 0 1 0 0 1 0 0 0 0 0 0 1 1 0 0 1 0 0 0\n",
            " 1 0 0 0 1 0 1 0 1 0 0 1 0 1 0 0 0 0 0 0 0 1 0 1 1 1 1 0 1 0 0 1 0 0 0 0 0\n",
            " 0 1 1 0 0 1 0 0 1 1 1 0 0 0 1 0 1 0 0 1 0 0 0 1 1 0 0 1 0 1 1 1 0 0 0 0 0\n",
            " 0 0 0 0 1 0 0 1 0 1 0 1 1 0 0 0 1 0 0 1 0 0 0 1 0 1 0 1 0 0 0 0 1 0 1 1 0\n",
            " 0 0 0 1 1 0 0 1 0 0 1 0 1 1 0 1 1 0 1 1 0 0 0 0 0 0 0 1 0 0 0 0 0 1 0 0 1\n",
            " 0 1 1 1 1 0 0 1 0 1 0 0 1 1 1 1 0 0 0 1 1 1 1 0 0 0 0 1 0 0 0 0 0 0 0 0 0\n",
            " 0 0 0 0 1 0 0 0 1 0 1 0 0 0 0 1 0 0 0 1 0 1 0 1 0 0 0 1 1 1 0 1 0 0 0 1 0\n",
            " 0 1 1 0 1 1 1 0 1 1 0 0 1 0 1 1 1 1 1 0 0 1 0 0 0 1 1 0 0 1 1 0 0 0 0 0 0\n",
            " 0 0 1 1 0 1 1 0 1 0 1 1 1 0 0 0 1 0 1 1 0 0 0 0 1 0 1 1 0 0 0 0 0 0 0 0 1\n",
            " 1 0 0 1 1 0 1 0 0 0 1 0 1 0 0 0 1 0 1 0 0 1 0 1 0 0 0 0 0 1 0 0 0 1 0 0 0\n",
            " 0 0 0 0 0 0 1 0 0 1 0 1 0 0 1 0 0 1 1 0 0 0 0 1 0 0 1 1 1 1 0 1 1 0 1 1 1\n",
            " 0 1 1 1 0 0 0 0 0 0 0 0 1 1 1 1 0 0 1 0 0 1 0 0 1 0 1 0 1 1 1 1 0 0 1 0 0\n",
            " 0 1 0 0 0 0 0 1 1 0 0 1 1 0 1 0 1 0 1 0 1 0 0 0 0 0 0 0 1 1 1 0 0 0 0 0 0\n",
            " 0 0 1 1 1 0 0 1 0 1 1 0 1 0 0 0 1 1 1 0 1 0 0 0 0 0 0 0 0 0 0 0 0 0 1 0 1\n",
            " 1 0 0 0 0 1 0 0 0 1 0 1 0 1 1 1 0 0 0 0 0 0 1 1 1 0 0 1 1 1 0 1 0 1 0 0 1\n",
            " 0 0 0 1 1 0 0 1 0 0 1 0 1 0 0 1 0 0 0 1 0 0 1 1 0 1 0 0 0 0 1 1 0 1 1 1 0\n",
            " 1 0 1 0 1 1 0 1 0 1 0 0 1 0 0 1 0 1 1 0 1 0 0 0 1 0 1 0 0 0 0 0 0 0 0 0 1\n",
            " 0 0 0 1 0 1 1 1 1 0 1 1 0 0 1 0 1 0 0 1 0 0 1 1 1 1 0 1 0 0 0 1 0 1 0 1 0\n",
            " 1 0 0 0 1 0 0 1 0 0 1 0 1 0 0 1 1 0 0 0 0 0 0 0 0 0 1 0 0 0 0 0 0 1 0 1 0\n",
            " 1 0 1 1 1 0 0 1 0]\n",
            "accuracy_score dos dados treino :  0.9859550561797753\n",
            "Alvo dos dados de treino [0 0 0 1 1 0 0 0 0 0 0 0 1 0 1 0 0 0 0 0 0 1 1 1 1 0 0 1 0 1 1 0 1 0 1 1 1\n",
            " 1 0 0 0 1 0 0 0 1 1 0 1 1 1 0 0 1 1 1 0 1 1 0 0 1 1 1 0 0 0 0 0 1 0 0 0 0\n",
            " 1 0 0 0 0 0 0 0 0 1 0 0 1 1 0 0 0 0 0 0 1 1 0 0 1 0 1 0 1 0 1 1 0 1 1 0 1\n",
            " 0 1 0 0 0 1 1 1 1 1 0 1 1 1 1 1 0 0 1 1 0 0 1 1 0 0 0 1 0 1 0 1 1 0 0 0 0\n",
            " 0 0 0 1 1 0 0 1 0 0 0 0 0 1 0 0 0 1 1 0 1 0 1 1 0 1 0 0 0 0 0]\n",
            "accuracy_score dos dados treino :  0.776536312849162\n"
          ]
        }
      ]
    },
    {
      "cell_type": "markdown",
      "source": [
        "#### Precisamos melhorar o overfit que está gerando com os dados, então vamos mudar o parâmetro"
      ],
      "metadata": {
        "id": "Mfxjiy_VPOzH"
      }
    },
    {
      "cell_type": "code",
      "source": [
        "model_2 = DecisionTreeClassifier(max_depth= 5)\n",
        "\n",
        "# fit the model com o dados de treino\n",
        "model_2.fit(train_x, train_y)"
      ],
      "metadata": {
        "colab": {
          "base_uri": "https://localhost:8080/"
        },
        "id": "AMY40I8LLd29",
        "outputId": "f5f6678b-fe85-4d6b-8572-e674cea249cd"
      },
      "execution_count": 18,
      "outputs": [
        {
          "output_type": "execute_result",
          "data": {
            "text/plain": [
              "DecisionTreeClassifier(max_depth=5)"
            ]
          },
          "metadata": {},
          "execution_count": 18
        }
      ]
    },
    {
      "cell_type": "code",
      "source": [
        "# profundidade da árvore de decisão\n",
        "print('Profundidade da árvore de decisão : ', model_2.get_depth())\n",
        "\n",
        "# Prevendo os destino dos dados de treino\n",
        "\n",
        "predict_train = model_2.predict(train_x)\n",
        "print('Alvo dos dados de treino', predict_train)\n",
        "\n",
        "# Accuray Score on train dataset\n",
        "accuracy_train = accuracy_score(train_y, predict_train)\n",
        "print('accuracy_score dos dados treino : ', accuracy_train)\n",
        "\n",
        "# Prever o alvo teste do dataset\n",
        "\n",
        "predict_train = model_2.predict(test_x)\n",
        "print('Alvo dos dados de treino', predict_train)\n",
        "\n",
        "accuracy_train = accuracy_score(test_y, predict_train)\n",
        "print('accuracy_score dos dados treino : ', accuracy_train)"
      ],
      "metadata": {
        "colab": {
          "base_uri": "https://localhost:8080/"
        },
        "id": "1xMrQEucLd5L",
        "outputId": "befeea17-0f71-4e55-aebc-282243754616"
      },
      "execution_count": 19,
      "outputs": [
        {
          "output_type": "stream",
          "name": "stdout",
          "text": [
            "Profundidade da árvore de decisão :  5\n",
            "Alvo dos dados de treino [0 1 0 0 0 0 0 0 0 0 0 0 1 1 0 0 0 0 0 1 0 0 1 0 0 0 0 0 0 1 0 0 0 0 0 0 0\n",
            " 1 0 0 0 1 0 1 1 1 1 0 0 0 1 0 0 0 0 0 0 0 1 0 1 1 1 0 1 0 0 0 1 0 0 0 0 0\n",
            " 0 1 1 0 0 1 0 1 0 1 1 0 0 0 1 0 1 0 0 1 0 0 0 1 1 0 0 1 0 0 1 0 0 1 0 0 1\n",
            " 0 0 0 0 1 0 0 1 0 1 0 0 1 0 0 0 1 0 0 1 0 0 0 1 0 0 0 0 0 0 0 0 1 0 1 1 0\n",
            " 0 0 0 0 1 0 0 1 0 1 0 0 1 0 0 1 1 0 1 1 0 0 0 0 0 0 0 0 0 0 0 0 0 1 0 0 1\n",
            " 0 1 1 1 1 0 0 1 0 0 0 0 0 1 1 1 1 0 0 0 1 1 1 0 0 0 0 1 0 0 0 0 0 0 0 0 0\n",
            " 0 0 0 0 0 0 0 0 1 1 1 0 0 1 0 0 0 0 0 1 0 1 0 1 0 0 0 0 1 1 0 1 0 0 1 1 0\n",
            " 0 1 1 0 1 1 1 0 1 1 0 0 1 0 0 1 1 1 0 0 0 0 0 0 0 0 1 0 0 0 0 0 0 0 0 0 0\n",
            " 0 0 1 1 0 1 1 0 0 0 0 0 0 0 0 0 1 0 1 1 0 0 0 0 1 0 1 1 0 0 1 0 0 0 0 1 1\n",
            " 1 0 0 1 1 0 1 0 0 0 0 0 0 0 0 0 1 0 1 0 0 1 1 1 0 0 0 0 0 1 0 0 0 0 0 0 0\n",
            " 0 0 0 0 0 1 0 0 0 0 0 1 0 0 1 0 0 0 0 0 0 0 0 1 0 0 1 1 0 1 0 1 0 0 1 1 1\n",
            " 0 1 1 0 0 0 0 0 0 0 0 0 1 1 0 1 0 0 1 0 0 0 0 0 1 0 0 0 1 1 0 0 0 0 1 0 0\n",
            " 0 1 0 0 0 0 0 0 0 0 0 1 1 0 1 0 1 0 0 0 1 0 0 0 1 0 0 0 1 0 1 0 0 0 0 0 0\n",
            " 0 0 1 0 1 0 0 0 0 1 1 0 1 0 0 0 1 1 1 0 0 0 0 0 0 0 0 0 0 0 1 0 0 0 1 0 1\n",
            " 1 0 0 0 0 1 0 0 0 0 0 1 0 1 0 1 0 0 0 0 0 0 1 1 0 0 0 1 1 1 1 1 0 1 0 0 1\n",
            " 0 0 0 1 1 0 0 1 0 0 1 0 1 0 0 1 0 1 0 1 0 0 0 0 1 1 0 1 0 0 1 1 0 1 1 0 0\n",
            " 0 0 1 0 0 1 0 1 0 0 0 0 1 0 0 0 0 1 1 0 1 0 0 0 1 0 1 0 0 0 0 0 0 0 0 0 1\n",
            " 0 0 0 0 0 0 1 1 0 0 1 1 0 0 1 0 1 0 0 0 0 0 1 1 0 0 0 1 0 0 0 1 0 1 0 0 0\n",
            " 0 0 0 0 1 0 0 1 0 0 1 0 0 0 0 1 1 0 0 0 0 0 0 0 0 0 1 0 0 0 1 0 0 1 0 0 0\n",
            " 1 0 1 1 1 0 0 1 0]\n",
            "accuracy_score dos dados treino :  0.8539325842696629\n",
            "Alvo dos dados de treino [0 0 0 1 1 0 0 0 0 0 0 0 1 0 0 0 0 0 0 0 0 0 1 0 1 0 0 0 0 1 1 0 0 0 1 0 0\n",
            " 0 0 0 0 0 0 0 0 1 0 0 1 0 0 0 0 0 1 1 0 1 1 0 0 1 1 0 0 0 0 0 0 1 0 0 0 0\n",
            " 1 0 0 0 1 0 0 0 0 0 1 0 1 1 0 1 0 0 0 0 1 1 0 0 1 0 1 0 0 0 1 1 0 0 1 1 1\n",
            " 0 1 0 0 0 0 1 0 0 1 0 1 1 0 1 1 0 0 1 1 0 0 1 1 0 0 1 1 0 1 0 1 0 0 0 0 0\n",
            " 0 0 0 1 1 0 0 1 0 0 0 0 0 1 0 0 0 0 0 0 1 0 1 1 0 1 0 0 0 0 0]\n",
            "accuracy_score dos dados treino :  0.8379888268156425\n"
          ]
        }
      ]
    },
    {
      "cell_type": "markdown",
      "source": [
        "OBS.: Alterei o parâmetro do max_depth até chegar em 5 para vê até onde poderia melhorar"
      ],
      "metadata": {
        "id": "W4JEZbNuP9Du"
      }
    },
    {
      "cell_type": "markdown",
      "source": [
        "# Exemplo prático 2\n",
        "\n",
        "com dado criados"
      ],
      "metadata": {
        "id": "A9QLZEAIQVfN"
      }
    },
    {
      "cell_type": "code",
      "source": [
        "! pip"
      ],
      "metadata": {
        "id": "CMZHq3aGLd9c"
      },
      "execution_count": null,
      "outputs": []
    },
    {
      "cell_type": "code",
      "source": [],
      "metadata": {
        "id": "npY-4we2Ld_w"
      },
      "execution_count": null,
      "outputs": []
    },
    {
      "cell_type": "code",
      "source": [],
      "metadata": {
        "id": "iQHue-qqLeCS"
      },
      "execution_count": null,
      "outputs": []
    }
  ]
}