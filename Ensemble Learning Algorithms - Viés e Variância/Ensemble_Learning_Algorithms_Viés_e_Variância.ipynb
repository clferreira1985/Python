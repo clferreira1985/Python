{
  "nbformat": 4,
  "nbformat_minor": 0,
  "metadata": {
    "colab": {
      "provenance": [],
      "authorship_tag": "ABX9TyNZWLSm8esJprqdVlmOV/rI",
      "include_colab_link": true
    },
    "kernelspec": {
      "name": "python3",
      "display_name": "Python 3"
    },
    "language_info": {
      "name": "python"
    }
  },
  "cells": [
    {
      "cell_type": "markdown",
      "metadata": {
        "id": "view-in-github",
        "colab_type": "text"
      },
      "source": [
        "<a href=\"https://colab.research.google.com/github/clferreira1985/Python/blob/main/Ensemble%20Learning%20Algorithms%20-%20Vi%C3%A9s%20e%20Vari%C3%A2ncia/Ensemble_Learning_Algorithms_Vi%C3%A9s_e_Vari%C3%A2ncia.ipynb\" target=\"_parent\"><img src=\"https://colab.research.google.com/assets/colab-badge.svg\" alt=\"Open In Colab\"/></a>"
      ]
    },
    {
      "cell_type": "markdown",
      "source": [
        "#Ensemble Learning Algorithms - Viés e Variância\n"
      ],
      "metadata": {
        "id": "K4lbPZCvNf6j"
      }
    },
    {
      "cell_type": "code",
      "execution_count": 2,
      "metadata": {
        "id": "A9yrreYmDcjL"
      },
      "outputs": [],
      "source": [
        "# Import dos módulos\n",
        "from pandas import read_csv\n",
        "from sklearn.model_selection import KFold\n",
        "from sklearn.model_selection import cross_val_score"
      ]
    },
    {
      "cell_type": "code",
      "source": [
        "# Carregando os dados\n",
        "arquivo = 'pima-data.csv'\n",
        "colunas = ['preg', 'plas', 'pres', 'skin', 'test', 'mass', 'pedi', 'age', 'class']\n",
        "dados = read_csv(arquivo, names = colunas)\n",
        "array = dados.values"
      ],
      "metadata": {
        "id": "XE01tjJpMOy5"
      },
      "execution_count": 3,
      "outputs": []
    },
    {
      "cell_type": "code",
      "source": [
        "# Separando o array em componentes de input e output\n",
        "X = array[:,0:8]\n",
        "Y = array[:,8]\n",
        "\n",
        "# Definindo os valores para o número de folds\n",
        "num_folds = 10\n",
        "seed = 7\n",
        "\n",
        "# Definindo o número de trees\n",
        "num_trees = 100\n",
        "max_features = 3"
      ],
      "metadata": {
        "id": "wDcDIB_RMU05"
      },
      "execution_count": 4,
      "outputs": []
    },
    {
      "cell_type": "code",
      "source": [
        "# Separando os dados em folds\n",
        "kfold = KFold(num_folds, shuffle = True, random_state = seed)"
      ],
      "metadata": {
        "id": "xUIWbXTzMWdM"
      },
      "execution_count": 5,
      "outputs": []
    },
    {
      "cell_type": "markdown",
      "source": [
        "#### Bagging"
      ],
      "metadata": {
        "id": "4Nm5qsm3Mh1g"
      }
    },
    {
      "cell_type": "code",
      "source": [
        "from sklearn.ensemble import BaggingClassifier"
      ],
      "metadata": {
        "id": "Senl4ScUMmMe"
      },
      "execution_count": 6,
      "outputs": []
    },
    {
      "cell_type": "code",
      "source": [
        "\n",
        "# Criando o modelo\n",
        "modelo = BaggingClassifier(n_estimators = num_trees, max_features = max_features)\n",
        "\n",
        "# Cross Validation\n",
        "resultado = cross_val_score(modelo, X, Y, cv = kfold)\n",
        "\n",
        "# Print do resultado\n",
        "print(\"Acurácia: %.3f\" % (resultado.mean() * 100))"
      ],
      "metadata": {
        "colab": {
          "base_uri": "https://localhost:8080/"
        },
        "id": "OZvX38gOMo0Z",
        "outputId": "c421d338-6e42-43bb-a0ab-0e6caae8c63f"
      },
      "execution_count": 7,
      "outputs": [
        {
          "output_type": "stream",
          "name": "stdout",
          "text": [
            "Acurácia: 74.610\n"
          ]
        }
      ]
    },
    {
      "cell_type": "markdown",
      "source": [
        "#### ExtraTree"
      ],
      "metadata": {
        "id": "skDhGXlxMx2P"
      }
    },
    {
      "cell_type": "code",
      "source": [
        "from sklearn.ensemble import ExtraTreesClassifier"
      ],
      "metadata": {
        "id": "hJa1yTsUMyK8"
      },
      "execution_count": 8,
      "outputs": []
    },
    {
      "cell_type": "code",
      "source": [
        "# Criando o modelo\n",
        "modelo = ExtraTreesClassifier(n_estimators = num_trees, max_features = max_features)\n",
        "\n",
        "# Cross Validation\n",
        "resultado = cross_val_score(modelo, X, Y, cv = kfold)\n",
        "\n",
        "# Print do resultado\n",
        "print(\"Acurácia: %.3f\" % (resultado.mean() * 100))"
      ],
      "metadata": {
        "colab": {
          "base_uri": "https://localhost:8080/"
        },
        "id": "IZRHC81XM8XN",
        "outputId": "b53b6175-f0a4-4ee9-8644-a2ef5de100f0"
      },
      "execution_count": 9,
      "outputs": [
        {
          "output_type": "stream",
          "name": "stdout",
          "text": [
            "Acurácia: 76.304\n"
          ]
        }
      ]
    },
    {
      "cell_type": "markdown",
      "source": [
        "#### Random Forest"
      ],
      "metadata": {
        "id": "x3zpAZ_-NEPH"
      }
    },
    {
      "cell_type": "code",
      "source": [
        "from sklearn.ensemble import RandomForestClassifier\n"
      ],
      "metadata": {
        "id": "ySvH14wLM8uz"
      },
      "execution_count": 10,
      "outputs": []
    },
    {
      "cell_type": "code",
      "source": [
        "# Criando o modelo\n",
        "modelo = RandomForestClassifier(n_estimators = num_trees, max_features = max_features)\n",
        "\n",
        "# Cross Validation\n",
        "resultado = cross_val_score(modelo, X, Y, cv = kfold)\n",
        "\n",
        "# Print do resultado\n",
        "print(\"Acurácia: %.3f\" % (resultado.mean() * 100))"
      ],
      "metadata": {
        "colab": {
          "base_uri": "https://localhost:8080/"
        },
        "id": "2AmShqrINIww",
        "outputId": "d1a13703-f198-464b-f9c3-a0289590d443"
      },
      "execution_count": 11,
      "outputs": [
        {
          "output_type": "stream",
          "name": "stdout",
          "text": [
            "Acurácia: 76.172\n"
          ]
        }
      ]
    }
  ]
}